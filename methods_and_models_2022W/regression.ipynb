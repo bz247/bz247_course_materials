{
  "cells": [
    {
      "cell_type": "code",
      "execution_count": 10,
      "id": "3941584b-179e-4931-aa4c-3df2126e5c2c",
      "metadata": {
        "id": "3941584b-179e-4931-aa4c-3df2126e5c2c"
      },
      "outputs": [],
      "source": [
        "### Regression\n",
        "### Input: Fuel consumption. Raw data: https://github.com/gsoh/VED\n",
        "### Tool: numpy.polynomial\n",
        "\n",
        "### Instructions\n",
        "### Download `regression_emission_data.zip` from https://tuwienacat-my.sharepoint.com/:u:/g/personal/bingyu_zhao_tuwien_ac_at/EZ22m3LbIM9Lp7QJlWiOKYYB_JVX-V3t3v84sYOZ7SPNFw\n",
        "### Do not unzip.\n",
        "### Upload `regression_emission_data.zip` to the left panel.\n",
        "### Your left panel should look like the image shown here: https://github.com/bz247/bz247_course_materials/blob/main/methods_and_models_2022W/figs/regression_data_upload_instruction.png"
      ]
    },
    {
      "cell_type": "markdown",
      "id": "ccadc1d7-3c00-4b80-8001-e32e57ea0e17",
      "metadata": {
        "id": "ccadc1d7-3c00-4b80-8001-e32e57ea0e17"
      },
      "source": [
        "### Step 0. Import necessary packages"
      ]
    },
    {
      "cell_type": "code",
      "execution_count": null,
      "id": "1d443984-3984-43bf-ba29-13350cfba00d",
      "metadata": {
        "id": "1d443984-3984-43bf-ba29-13350cfba00d"
      },
      "outputs": [],
      "source": [
        "import numpy as np\n",
        "import pandas as pd\n",
        "import matplotlib.pyplot as plt\n",
        "import numpy.polynomial.polynomial as poly"
      ]
    },
    {
      "cell_type": "markdown",
      "id": "efb6fae3-dcf4-4ea7-a256-5c40ab193d5e",
      "metadata": {
        "id": "efb6fae3-dcf4-4ea7-a256-5c40ab193d5e"
      },
      "source": [
        "### Step 1. Import data"
      ]
    },
    {
      "cell_type": "code",
      "source": [
        "!unzip regression_emission_data.zip"
      ],
      "metadata": {
        "id": "huJPrgs0WVDg"
      },
      "id": "huJPrgs0WVDg",
      "execution_count": null,
      "outputs": []
    },
    {
      "cell_type": "code",
      "execution_count": null,
      "id": "7f9606f2-a417-4475-a96c-d5ef1b6c7b3f",
      "metadata": {
        "id": "7f9606f2-a417-4475-a96c-d5ef1b6c7b3f"
      },
      "outputs": [],
      "source": [
        "emission_data = pd.read_csv('regression_emission_data/regression_emission_data/regression_data.csv')\n",
        "emission_data.head()"
      ]
    },
    {
      "cell_type": "code",
      "execution_count": null,
      "id": "47f09103-28b3-4042-991c-5a6c3ea7293c",
      "metadata": {
        "id": "47f09103-28b3-4042-991c-5a6c3ea7293c"
      },
      "outputs": [],
      "source": [
        "emission_data.groupby('maxspeed_range').size()"
      ]
    },
    {
      "cell_type": "code",
      "execution_count": null,
      "id": "84e409f7-bdc9-4264-a0ee-43947f2fdd61",
      "metadata": {
        "id": "84e409f7-bdc9-4264-a0ee-43947f2fdd61"
      },
      "outputs": [],
      "source": [
        "fig, ax = plt.subplots(figsize=(10, 8))\n",
        "ax.scatter(emission_data['link_average_speed_kmph'], \n",
        "           emission_data['link_average_fuel_lpm'], s=1, alpha=0.1)\n",
        "ax.set_xlabel('Link average speed (km/h)')\n",
        "ax.set_ylabel('Link average fuel consumption (liter/mile)')\n",
        "ax.set_ylim([0, 1])"
      ]
    },
    {
      "cell_type": "markdown",
      "id": "0c3149e0-cb36-4c64-a52c-202d735c4c51",
      "metadata": {
        "id": "0c3149e0-cb36-4c64-a52c-202d735c4c51"
      },
      "source": [
        "### Step 2. Basic regression"
      ]
    },
    {
      "cell_type": "code",
      "execution_count": null,
      "id": "e494b386-7b73-45b5-b2b8-4e9cfa265be7",
      "metadata": {
        "id": "e494b386-7b73-45b5-b2b8-4e9cfa265be7"
      },
      "outputs": [],
      "source": [
        "#polynomial fit with degree = 2\n",
        "emission_data['x'] = emission_data['link_average_speed_kmph']\n",
        "emission_data['y'] = emission_data['link_average_fuel_lpm']\n",
        "coefs = poly.polyfit(emission_data['x'], \n",
        "           emission_data['y'], 2)\n",
        "ffit = poly.Polynomial(coefs) \n",
        "print(coefs)\n",
        "\n",
        "#add fitted polynomial line to scatterplot\n",
        "fig, ax = plt.subplots(figsize=(10, 8))\n",
        "ax.scatter(emission_data['link_average_speed_kmph'], \n",
        "           emission_data['link_average_fuel_lpm'], s=1, alpha=0.1)\n",
        "polyline = np.linspace(1, 140, 50)\n",
        "plt.plot(polyline, ffit(polyline), c='r')\n",
        "\n",
        "ax.set_xlabel('Link average speed (km/h)')\n",
        "ax.set_ylabel('Link average fuel consumption (liter/mile)')\n",
        "ax.set_ylim([0, 1])"
      ]
    },
    {
      "cell_type": "code",
      "execution_count": null,
      "id": "f615a2f8-8691-45cd-ba27-a52f9d945824",
      "metadata": {
        "id": "f615a2f8-8691-45cd-ba27-a52f9d945824"
      },
      "outputs": [],
      "source": [
        "#polynomial fit with degree = 2\n",
        "emission_data['x'] = emission_data['link_average_speed_kmph']/100\n",
        "emission_data['y'] = np.log(emission_data['link_average_fuel_lpm'])\n",
        "coefs = poly.polyfit(emission_data['x'], \n",
        "           emission_data['y'], 2)\n",
        "ffit = poly.Polynomial(coefs) \n",
        "print(coefs)\n",
        "\n",
        "#add fitted polynomial line to scatterplot\n",
        "fig, ax = plt.subplots(figsize=(10, 8))\n",
        "ax.scatter(emission_data['link_average_speed_kmph'], \n",
        "           emission_data['link_average_fuel_lpm'], s=1, alpha=0.1)\n",
        "polyline = np.linspace(1, 140, 50)\n",
        "plt.plot(polyline, np.exp(ffit(polyline/100)), c='r')\n",
        "\n",
        "ax.set_xlabel('Link average speed (km/h)')\n",
        "ax.set_ylabel('Link average fuel consumption (liter/mile)')\n",
        "ax.set_ylim([0, 1])"
      ]
    },
    {
      "cell_type": "markdown",
      "id": "161a441a-cccd-4030-925f-30144d3e5a80",
      "metadata": {
        "id": "161a441a-cccd-4030-925f-30144d3e5a80"
      },
      "source": [
        "### Step 3. Regression by speed range"
      ]
    },
    {
      "cell_type": "code",
      "execution_count": null,
      "id": "e1a7396a-059f-403c-bb94-36a283bfd2ce",
      "metadata": {
        "id": "e1a7396a-059f-403c-bb94-36a283bfd2ce"
      },
      "outputs": [],
      "source": [
        "#polynomial fit with degree = 2\n",
        "emission_data['x'] = emission_data['link_average_speed_kmph']/100\n",
        "emission_data['y'] = np.log(emission_data['link_average_fuel_lpm'])\n",
        "\n",
        "#add fitted polynomial line to scatterplot\n",
        "fig, ax = plt.subplots(figsize=(10, 8))\n",
        "ax.scatter(emission_data['link_average_speed_kmph'], \n",
        "           emission_data['link_average_fuel_lpm'], s=1, alpha=0.1, c='lightgray')\n",
        "\n",
        "for max_speed in [25, 30, 35, 40, 45, 70]:\n",
        "    subdata = emission_data[emission_data['maxspeed_range']==max_speed]\n",
        "    coefs = poly.polyfit(subdata['x'], subdata['y'], 2)\n",
        "    ffit = poly.Polynomial(coefs) \n",
        "    print(coefs)\n",
        "    polyline = np.linspace(1, max_speed*1.5, 50)\n",
        "    plt.plot(polyline, np.exp(ffit(polyline/100)), label='{} mph'.format(max_speed))\n",
        "\n",
        "ax.set_xlabel('Link average speed (km/h)')\n",
        "ax.set_ylabel('Link average fuel consumption (liter/mile)')\n",
        "ax.set_ylim([0, 1])\n",
        "ax.legend()"
      ]
    },
    {
      "cell_type": "code",
      "execution_count": null,
      "id": "6a2e4cd4-5bf8-4a6e-9353-c5bae30d8094",
      "metadata": {
        "id": "6a2e4cd4-5bf8-4a6e-9353-c5bae30d8094"
      },
      "outputs": [],
      "source": []
    }
  ],
  "metadata": {
    "kernelspec": {
      "display_name": "Python 3",
      "language": "python",
      "name": "python3"
    },
    "language_info": {
      "codemirror_mode": {
        "name": "ipython",
        "version": 3
      },
      "file_extension": ".py",
      "mimetype": "text/x-python",
      "name": "python",
      "nbconvert_exporter": "python",
      "pygments_lexer": "ipython3",
      "version": "3.8.8"
    },
    "colab": {
      "provenance": []
    }
  },
  "nbformat": 4,
  "nbformat_minor": 5
}