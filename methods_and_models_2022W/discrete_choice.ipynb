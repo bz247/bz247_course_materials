{
  "cells": [
    {
      "cell_type": "code",
      "execution_count": null,
      "id": "d0f6bb03-88fe-42f7-89b8-31360e96b426",
      "metadata": {
        "id": "d0f6bb03-88fe-42f7-89b8-31360e96b426"
      },
      "outputs": [],
      "source": [
        "### Calculating route choice\n",
        "### Input: Discrete choice parameters\n",
        "### Tool: Python numpy.random\n",
        "\n",
        "### Instructions\n",
        "### No need to download any data\n",
        "### Simply run the cells below"
      ]
    },
    {
      "cell_type": "markdown",
      "id": "9123c986-aea1-45bf-8db7-574929dddd13",
      "metadata": {
        "id": "9123c986-aea1-45bf-8db7-574929dddd13"
      },
      "source": [
        "### Step 0. Import necessary packages"
      ]
    },
    {
      "cell_type": "code",
      "execution_count": null,
      "id": "22e25c06-98a9-4ca3-a575-d32fa5185e73",
      "metadata": {
        "id": "22e25c06-98a9-4ca3-a575-d32fa5185e73"
      },
      "outputs": [],
      "source": [
        "import numpy as np\n",
        "import pandas as pd"
      ]
    },
    {
      "cell_type": "markdown",
      "id": "a395aef7-f5ee-44cb-b6be-e04e08b6ee3d",
      "metadata": {
        "id": "a395aef7-f5ee-44cb-b6be-e04e08b6ee3d"
      },
      "source": [
        "### Step 1. Input the choice set"
      ]
    },
    {
      "cell_type": "code",
      "execution_count": null,
      "id": "24d774ce-8089-48f7-b115-397a9e9e4cc0",
      "metadata": {
        "collapsed": true,
        "jupyter": {
          "outputs_hidden": true
        },
        "tags": [],
        "id": "24d774ce-8089-48f7-b115-397a9e9e4cc0"
      },
      "outputs": [],
      "source": [
        "choice_set = pd.DataFrame({\n",
        "    'choice': [1, 2, 3],\n",
        "    'walking_time': [1, 1, 10],\n",
        "    'in-transit_time': [11, 9, 7],\n",
        "    'transfer_time': [1, 0, 0]})\n",
        "display(choice_set)"
      ]
    },
    {
      "cell_type": "code",
      "execution_count": null,
      "id": "036ab30d-7ea5-4c58-92d4-feaf9eca0fdc",
      "metadata": {
        "tags": [],
        "id": "036ab30d-7ea5-4c58-92d4-feaf9eca0fdc"
      },
      "outputs": [],
      "source": [
        "choice_set['utility'] = -(choice_set['walking_time'] + choice_set['in-transit_time'] + choice_set['transfer_time'])/60\n",
        "choice_set['exp_utility'] = np.exp(choice_set['utility'])\n",
        "display(choice_set)"
      ]
    },
    {
      "cell_type": "code",
      "execution_count": null,
      "id": "5e884785-cfcb-4a66-bc4c-21d9ea5c40de",
      "metadata": {
        "id": "5e884785-cfcb-4a66-bc4c-21d9ea5c40de"
      },
      "outputs": [],
      "source": [
        "sum_e_utility = np.sum(choice_set['exp_utility'])\n",
        "print(sum_e_utility)"
      ]
    },
    {
      "cell_type": "code",
      "execution_count": null,
      "id": "2707a391-876c-4624-96a7-65e82285dd9b",
      "metadata": {
        "id": "2707a391-876c-4624-96a7-65e82285dd9b"
      },
      "outputs": [],
      "source": [
        "choice_set['probability'] = choice_set['exp_utility']/sum_e_utility\n",
        "display(choice_set)"
      ]
    },
    {
      "cell_type": "markdown",
      "id": "870205b4-ada9-44c0-aa77-286378088eb8",
      "metadata": {
        "id": "870205b4-ada9-44c0-aa77-286378088eb8"
      },
      "source": [
        "### Step 2. Random sample from choice set\n",
        "\n",
        "Try running this section multiple times. Do you get different results?"
      ]
    },
    {
      "cell_type": "code",
      "execution_count": null,
      "id": "d0dd918b-85fc-4b61-aa69-dac24c00fb44",
      "metadata": {
        "id": "d0dd918b-85fc-4b61-aa69-dac24c00fb44"
      },
      "outputs": [],
      "source": [
        "num_of_trips = 1000"
      ]
    },
    {
      "cell_type": "code",
      "execution_count": null,
      "id": "1e0f6669-2b01-4421-b42a-4f62875002a3",
      "metadata": {
        "id": "1e0f6669-2b01-4421-b42a-4f62875002a3"
      },
      "outputs": [],
      "source": [
        "sample_results = np.random.choice(choice_set['choice'], p=choice_set['probability'], size=num_of_trips)\n",
        "sample_results[0:10]"
      ]
    },
    {
      "cell_type": "code",
      "execution_count": null,
      "id": "ad1541e6-b479-49d9-b47f-eca1e764b2b9",
      "metadata": {
        "id": "ad1541e6-b479-49d9-b47f-eca1e764b2b9"
      },
      "outputs": [],
      "source": [
        "choice_one_total = np.sum(sample_results==1)\n",
        "choice_two_total = np.sum(sample_results==2)\n",
        "choice_three_total = np.sum(sample_results==3)\n",
        "\n",
        "print('Number of travelers choosing option 1 is {}'.format(choice_one_total))\n",
        "print('Number of travelers choosing option 2 is {}'.format(choice_two_total))\n",
        "print('Number of travelers choosing option 3 is {}'.format(choice_three_total))"
      ]
    },
    {
      "cell_type": "code",
      "execution_count": null,
      "id": "0b910b42-4021-4159-b20a-de1c9f19ed29",
      "metadata": {
        "id": "0b910b42-4021-4159-b20a-de1c9f19ed29"
      },
      "outputs": [],
      "source": []
    }
  ],
  "metadata": {
    "kernelspec": {
      "display_name": "Python 3",
      "language": "python",
      "name": "python3"
    },
    "language_info": {
      "codemirror_mode": {
        "name": "ipython",
        "version": 3
      },
      "file_extension": ".py",
      "mimetype": "text/x-python",
      "name": "python",
      "nbconvert_exporter": "python",
      "pygments_lexer": "ipython3",
      "version": "3.8.8"
    },
    "colab": {
      "provenance": []
    }
  },
  "nbformat": 4,
  "nbformat_minor": 5
}