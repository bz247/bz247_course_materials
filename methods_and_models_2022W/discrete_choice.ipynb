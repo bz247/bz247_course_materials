{
 "cells": [
  {
   "cell_type": "code",
   "execution_count": null,
   "id": "d0f6bb03-88fe-42f7-89b8-31360e96b426",
   "metadata": {},
   "outputs": [],
   "source": [
    "### Calculating route choice\n",
    "### Input: Discrete choice parameters\n",
    "### Tool: Python numpy.random"
   ]
  },
  {
   "cell_type": "markdown",
   "id": "9123c986-aea1-45bf-8db7-574929dddd13",
   "metadata": {},
   "source": [
    "### Step 0. Import necessary packages"
   ]
  },
  {
   "cell_type": "code",
   "execution_count": 1,
   "id": "22e25c06-98a9-4ca3-a575-d32fa5185e73",
   "metadata": {},
   "outputs": [],
   "source": [
    "import numpy as np\n",
    "import pandas as pd"
   ]
  },
  {
   "cell_type": "markdown",
   "id": "a395aef7-f5ee-44cb-b6be-e04e08b6ee3d",
   "metadata": {},
   "source": [
    "### Step 1. Input the choice set"
   ]
  },
  {
   "cell_type": "code",
   "execution_count": 2,
   "id": "24d774ce-8089-48f7-b115-397a9e9e4cc0",
   "metadata": {
    "collapsed": true,
    "jupyter": {
     "outputs_hidden": true
    },
    "tags": []
   },
   "outputs": [
    {
     "data": {
      "text/html": [
       "<div>\n",
       "<style scoped>\n",
       "    .dataframe tbody tr th:only-of-type {\n",
       "        vertical-align: middle;\n",
       "    }\n",
       "\n",
       "    .dataframe tbody tr th {\n",
       "        vertical-align: top;\n",
       "    }\n",
       "\n",
       "    .dataframe thead th {\n",
       "        text-align: right;\n",
       "    }\n",
       "</style>\n",
       "<table border=\"1\" class=\"dataframe\">\n",
       "  <thead>\n",
       "    <tr style=\"text-align: right;\">\n",
       "      <th></th>\n",
       "      <th>choice</th>\n",
       "      <th>walking_time</th>\n",
       "      <th>in-transit_time</th>\n",
       "      <th>transfer_time</th>\n",
       "    </tr>\n",
       "  </thead>\n",
       "  <tbody>\n",
       "    <tr>\n",
       "      <th>0</th>\n",
       "      <td>1</td>\n",
       "      <td>1</td>\n",
       "      <td>11</td>\n",
       "      <td>1</td>\n",
       "    </tr>\n",
       "    <tr>\n",
       "      <th>1</th>\n",
       "      <td>2</td>\n",
       "      <td>1</td>\n",
       "      <td>9</td>\n",
       "      <td>0</td>\n",
       "    </tr>\n",
       "    <tr>\n",
       "      <th>2</th>\n",
       "      <td>3</td>\n",
       "      <td>10</td>\n",
       "      <td>7</td>\n",
       "      <td>0</td>\n",
       "    </tr>\n",
       "  </tbody>\n",
       "</table>\n",
       "</div>"
      ],
      "text/plain": [
       "   choice  walking_time  in-transit_time  transfer_time\n",
       "0       1             1               11              1\n",
       "1       2             1                9              0\n",
       "2       3            10                7              0"
      ]
     },
     "metadata": {},
     "output_type": "display_data"
    }
   ],
   "source": [
    "choice_set = pd.DataFrame({\n",
    "    'choice': [1, 2, 3],\n",
    "    'walking_time': [1, 1, 10],\n",
    "    'in-transit_time': [11, 9, 7],\n",
    "    'transfer_time': [1, 0, 0]})\n",
    "display(choice_set)"
   ]
  },
  {
   "cell_type": "code",
   "execution_count": 3,
   "id": "036ab30d-7ea5-4c58-92d4-feaf9eca0fdc",
   "metadata": {
    "tags": []
   },
   "outputs": [
    {
     "data": {
      "text/html": [
       "<div>\n",
       "<style scoped>\n",
       "    .dataframe tbody tr th:only-of-type {\n",
       "        vertical-align: middle;\n",
       "    }\n",
       "\n",
       "    .dataframe tbody tr th {\n",
       "        vertical-align: top;\n",
       "    }\n",
       "\n",
       "    .dataframe thead th {\n",
       "        text-align: right;\n",
       "    }\n",
       "</style>\n",
       "<table border=\"1\" class=\"dataframe\">\n",
       "  <thead>\n",
       "    <tr style=\"text-align: right;\">\n",
       "      <th></th>\n",
       "      <th>choice</th>\n",
       "      <th>walking_time</th>\n",
       "      <th>in-transit_time</th>\n",
       "      <th>transfer_time</th>\n",
       "      <th>utility</th>\n",
       "      <th>exp_utility</th>\n",
       "    </tr>\n",
       "  </thead>\n",
       "  <tbody>\n",
       "    <tr>\n",
       "      <th>0</th>\n",
       "      <td>1</td>\n",
       "      <td>1</td>\n",
       "      <td>11</td>\n",
       "      <td>1</td>\n",
       "      <td>-0.216667</td>\n",
       "      <td>0.805198</td>\n",
       "    </tr>\n",
       "    <tr>\n",
       "      <th>1</th>\n",
       "      <td>2</td>\n",
       "      <td>1</td>\n",
       "      <td>9</td>\n",
       "      <td>0</td>\n",
       "      <td>-0.166667</td>\n",
       "      <td>0.846482</td>\n",
       "    </tr>\n",
       "    <tr>\n",
       "      <th>2</th>\n",
       "      <td>3</td>\n",
       "      <td>10</td>\n",
       "      <td>7</td>\n",
       "      <td>0</td>\n",
       "      <td>-0.283333</td>\n",
       "      <td>0.753269</td>\n",
       "    </tr>\n",
       "  </tbody>\n",
       "</table>\n",
       "</div>"
      ],
      "text/plain": [
       "   choice  walking_time  in-transit_time  transfer_time   utility  exp_utility\n",
       "0       1             1               11              1 -0.216667     0.805198\n",
       "1       2             1                9              0 -0.166667     0.846482\n",
       "2       3            10                7              0 -0.283333     0.753269"
      ]
     },
     "metadata": {},
     "output_type": "display_data"
    }
   ],
   "source": [
    "choice_set['utility'] = -(choice_set['walking_time'] + choice_set['in-transit_time'] + choice_set['transfer_time'])/60\n",
    "choice_set['exp_utility'] = np.exp(choice_set['utility'])\n",
    "display(choice_set)"
   ]
  },
  {
   "cell_type": "code",
   "execution_count": 4,
   "id": "5e884785-cfcb-4a66-bc4c-21d9ea5c40de",
   "metadata": {},
   "outputs": [
    {
     "name": "stdout",
     "output_type": "stream",
     "text": [
      "2.4049487053633416\n"
     ]
    }
   ],
   "source": [
    "sum_e_utility = np.sum(choice_set['exp_utility'])\n",
    "print(sum_e_utility)"
   ]
  },
  {
   "cell_type": "code",
   "execution_count": 5,
   "id": "2707a391-876c-4624-96a7-65e82285dd9b",
   "metadata": {},
   "outputs": [
    {
     "data": {
      "text/html": [
       "<div>\n",
       "<style scoped>\n",
       "    .dataframe tbody tr th:only-of-type {\n",
       "        vertical-align: middle;\n",
       "    }\n",
       "\n",
       "    .dataframe tbody tr th {\n",
       "        vertical-align: top;\n",
       "    }\n",
       "\n",
       "    .dataframe thead th {\n",
       "        text-align: right;\n",
       "    }\n",
       "</style>\n",
       "<table border=\"1\" class=\"dataframe\">\n",
       "  <thead>\n",
       "    <tr style=\"text-align: right;\">\n",
       "      <th></th>\n",
       "      <th>choice</th>\n",
       "      <th>walking_time</th>\n",
       "      <th>in-transit_time</th>\n",
       "      <th>transfer_time</th>\n",
       "      <th>utility</th>\n",
       "      <th>exp_utility</th>\n",
       "      <th>probability</th>\n",
       "    </tr>\n",
       "  </thead>\n",
       "  <tbody>\n",
       "    <tr>\n",
       "      <th>0</th>\n",
       "      <td>1</td>\n",
       "      <td>1</td>\n",
       "      <td>11</td>\n",
       "      <td>1</td>\n",
       "      <td>-0.216667</td>\n",
       "      <td>0.805198</td>\n",
       "      <td>0.334809</td>\n",
       "    </tr>\n",
       "    <tr>\n",
       "      <th>1</th>\n",
       "      <td>2</td>\n",
       "      <td>1</td>\n",
       "      <td>9</td>\n",
       "      <td>0</td>\n",
       "      <td>-0.166667</td>\n",
       "      <td>0.846482</td>\n",
       "      <td>0.351975</td>\n",
       "    </tr>\n",
       "    <tr>\n",
       "      <th>2</th>\n",
       "      <td>3</td>\n",
       "      <td>10</td>\n",
       "      <td>7</td>\n",
       "      <td>0</td>\n",
       "      <td>-0.283333</td>\n",
       "      <td>0.753269</td>\n",
       "      <td>0.313216</td>\n",
       "    </tr>\n",
       "  </tbody>\n",
       "</table>\n",
       "</div>"
      ],
      "text/plain": [
       "   choice  walking_time  in-transit_time  transfer_time   utility  \\\n",
       "0       1             1               11              1 -0.216667   \n",
       "1       2             1                9              0 -0.166667   \n",
       "2       3            10                7              0 -0.283333   \n",
       "\n",
       "   exp_utility  probability  \n",
       "0     0.805198     0.334809  \n",
       "1     0.846482     0.351975  \n",
       "2     0.753269     0.313216  "
      ]
     },
     "metadata": {},
     "output_type": "display_data"
    }
   ],
   "source": [
    "choice_set['probability'] = choice_set['exp_utility']/sum_e_utility\n",
    "display(choice_set)"
   ]
  },
  {
   "cell_type": "markdown",
   "id": "870205b4-ada9-44c0-aa77-286378088eb8",
   "metadata": {},
   "source": [
    "### Step 2. Random sample from choice set"
   ]
  },
  {
   "cell_type": "code",
   "execution_count": 6,
   "id": "d0dd918b-85fc-4b61-aa69-dac24c00fb44",
   "metadata": {},
   "outputs": [],
   "source": [
    "num_of_trips = 1000"
   ]
  },
  {
   "cell_type": "code",
   "execution_count": 7,
   "id": "1e0f6669-2b01-4421-b42a-4f62875002a3",
   "metadata": {},
   "outputs": [
    {
     "data": {
      "text/plain": [
       "array([1, 1, 3, 3, 2, 1, 1, 3, 2, 3])"
      ]
     },
     "execution_count": 7,
     "metadata": {},
     "output_type": "execute_result"
    }
   ],
   "source": [
    "sample_results = np.random.choice(choice_set['choice'], p=choice_set['probability'], size=num_of_trips)\n",
    "sample_results[0:10]"
   ]
  },
  {
   "cell_type": "code",
   "execution_count": 8,
   "id": "ad1541e6-b479-49d9-b47f-eca1e764b2b9",
   "metadata": {},
   "outputs": [
    {
     "name": "stdout",
     "output_type": "stream",
     "text": [
      "Number of travelers choosing option 1 is 328\n",
      "Number of travelers choosing option 2 is 343\n",
      "Number of travelers choosing option 3 is 329\n"
     ]
    }
   ],
   "source": [
    "choice_one_total = np.sum(sample_results==1)\n",
    "choice_two_total = np.sum(sample_results==2)\n",
    "choice_three_total = np.sum(sample_results==3)\n",
    "\n",
    "print('Number of travelers choosing option 1 is {}'.format(choice_one_total))\n",
    "print('Number of travelers choosing option 2 is {}'.format(choice_two_total))\n",
    "print('Number of travelers choosing option 3 is {}'.format(choice_three_total))"
   ]
  },
  {
   "cell_type": "code",
   "execution_count": null,
   "id": "0b910b42-4021-4159-b20a-de1c9f19ed29",
   "metadata": {},
   "outputs": [],
   "source": []
  }
 ],
 "metadata": {
  "kernelspec": {
   "display_name": "Python 3",
   "language": "python",
   "name": "python3"
  },
  "language_info": {
   "codemirror_mode": {
    "name": "ipython",
    "version": 3
   },
   "file_extension": ".py",
   "mimetype": "text/x-python",
   "name": "python",
   "nbconvert_exporter": "python",
   "pygments_lexer": "ipython3",
   "version": "3.8.8"
  }
 },
 "nbformat": 4,
 "nbformat_minor": 5
}
