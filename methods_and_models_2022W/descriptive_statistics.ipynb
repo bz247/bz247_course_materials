{
  "cells": [
    {
      "cell_type": "code",
      "execution_count": null,
      "id": "fac504f4-4f55-4899-98e7-1f43a8e59c82",
      "metadata": {
        "id": "fac504f4-4f55-4899-98e7-1f43a8e59c82"
      },
      "outputs": [],
      "source": [
        "### Describing subway service frequency\n",
        "### Input: GTFS data. Source: https://www.transit.land/feeds/f-u2ed-wienerlinien~wlb/\n",
        "### Tool: Pandas\n",
        "\n",
        "### Instructions:\n",
        "### Download `vienna_gtfs.zip` from https://tuwienacat-my.sharepoint.com/:u:/g/personal/bingyu_zhao_tuwien_ac_at/ESUlyvo8eXRKn8_DbM4Lc0IBL9mV6aDohYkAWBGdVsSraw\n",
        "### Do not unzip.\n",
        "### Upload `vienna_gtfs.zip` to the left panel.\n",
        "### Your left panel should look like this https://github.com/bz247/bz247_course_materials/blob/main/methods_and_models_2022W/figs/vienna_gtfs_data_upload_instruction.png\n",
        "### Click through each of the code block below. "
      ]
    },
    {
      "cell_type": "markdown",
      "id": "f520cea8-953b-4010-87b4-a91204f88628",
      "metadata": {
        "id": "f520cea8-953b-4010-87b4-a91204f88628"
      },
      "source": [
        "### Step 0. Import necessary packages"
      ]
    },
    {
      "cell_type": "code",
      "execution_count": null,
      "id": "fa101e0d-5593-4fc7-8fd0-7f3b4f73513d",
      "metadata": {
        "id": "fa101e0d-5593-4fc7-8fd0-7f3b4f73513d"
      },
      "outputs": [],
      "source": [
        "# retrieve the sp code\n",
        "!rm -rf sp && mkdir sp\n",
        "!wget \"https://github.com/UCB-CE170a/Fall2021/raw/master/traffic_data/liblsp.so\" -O sp/liblsp.so\n",
        "!wget \"https://raw.githubusercontent.com/UCB-CE170a/Fall2021/master/traffic_data/interface.py\" -O sp/interface.py\n",
        "\n",
        "# install geopandas and the transit_sim module\n",
        "!pip install geopandas\n",
        "!wget \"https://raw.githubusercontent.com/bz247/bz247_course_materials/main/methods_and_models_2022W/transit_sim.py\" -O transit_sim.py\n",
        "\n",
        "import pandas as pd\n",
        "from transit_sim import Trains"
      ]
    },
    {
      "cell_type": "markdown",
      "id": "d5c97fe5-3dc0-4895-a8ef-f9b031ca940f",
      "metadata": {
        "id": "d5c97fe5-3dc0-4895-a8ef-f9b031ca940f"
      },
      "source": [
        "### Step 1. Process GTFS"
      ]
    },
    {
      "cell_type": "code",
      "source": [
        "!unzip vienna_gtfs.zip"
      ],
      "metadata": {
        "id": "tROmoYIXRUIH"
      },
      "id": "tROmoYIXRUIH",
      "execution_count": null,
      "outputs": []
    },
    {
      "cell_type": "code",
      "execution_count": null,
      "id": "b6f8795f-133f-49b3-9230-d02d67882fc3",
      "metadata": {
        "id": "b6f8795f-133f-49b3-9230-d02d67882fc3"
      },
      "outputs": [],
      "source": [
        "service_id = 'T9' ### 20220808 to 20220904\n",
        "\n",
        "trips_file = 'vienna_gtfs/vienna_gtfs/trips.txt'\n",
        "stops_file = 'vienna_gtfs/vienna_gtfs/stops.txt'\n",
        "stop_times_file = 'vienna_gtfs/vienna_gtfs/stop_times.txt'\n",
        "\n",
        "### create all trains from GTFS\n",
        "all_trains = Trains()\n",
        "all_nodes, all_links = all_trains.schedule_and_network_from_gtfs(\n",
        "    stop_times_file, trips_file, stops_file, service_id)"
      ]
    },
    {
      "cell_type": "code",
      "execution_count": null,
      "id": "686e63df-772c-401d-a625-7a3d136709e9",
      "metadata": {
        "id": "686e63df-772c-401d-a625-7a3d136709e9"
      },
      "outputs": [],
      "source": [
        "all_trains.schedule_df.head()"
      ]
    },
    {
      "cell_type": "markdown",
      "id": "e8abf5ea-f7f8-4189-a72e-d46324f7d4a9",
      "metadata": {
        "id": "e8abf5ea-f7f8-4189-a72e-d46324f7d4a9"
      },
      "source": [
        "### Step 2. Generate trajectory plot"
      ]
    },
    {
      "cell_type": "code",
      "execution_count": null,
      "id": "d1011af0-31cb-4ee5-8255-a1cd36e57388",
      "metadata": {
        "id": "d1011af0-31cb-4ee5-8255-a1cd36e57388"
      },
      "outputs": [],
      "source": [
        "all_trains.generate_trajectory_plot(3600*4, 3600*7, all_nodes, 'U1H')"
      ]
    },
    {
      "cell_type": "code",
      "execution_count": null,
      "id": "32269ed6-4281-4a75-bea2-aba2ba7097a1",
      "metadata": {
        "id": "32269ed6-4281-4a75-bea2-aba2ba7097a1"
      },
      "outputs": [],
      "source": []
    }
  ],
  "metadata": {
    "kernelspec": {
      "display_name": "Python 3",
      "language": "python",
      "name": "python3"
    },
    "language_info": {
      "codemirror_mode": {
        "name": "ipython",
        "version": 3
      },
      "file_extension": ".py",
      "mimetype": "text/x-python",
      "name": "python",
      "nbconvert_exporter": "python",
      "pygments_lexer": "ipython3",
      "version": "3.8.8"
    },
    "colab": {
      "provenance": []
    }
  },
  "nbformat": 4,
  "nbformat_minor": 5
}